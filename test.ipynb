{
 "cells": [
  {
   "cell_type": "markdown",
   "metadata": {},
   "source": [
    "# 🧠 My First Jupyter Notebook\n",
    "\n",
    "This notebook was created directly in GitHub!\n",
    "\n",
    "## ✨ Description\n",
    "Use this notebook to experiment with Python code, data analysis, or AI projects."
   ]
  },
  {
   "cell_type": "code",
   "execution_count": null,
   "metadata": {},
   "outputs": [],
   "source": [
    "# 👋 Hello, world!\n",
    "print('Hello, Jupyter Notebook!')"
   ]
  }
 ],
 "metadata": {
  "kernelspec": {
   "display_name": "Python 3",
   "language": "python",
   "name": "python3"
  },
  "language_info": {
   "name": "python",
   "version": "3.x"
  }
 },
 "nbformat": 4,
 "nbformat_minor": 2
}

